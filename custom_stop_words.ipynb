{
 "cells": [
  {
   "cell_type": "code",
   "execution_count": 36,
   "metadata": {},
   "outputs": [
    {
     "data": {
      "text/html": [
       "<ol class=list-inline>\n",
       "\t<li>'triggers'</li>\n",
       "\t<li>'key'</li>\n",
       "\t<li>'data'</li>\n",
       "\t<li>'object'</li>\n",
       "\t<li>'sql'</li>\n",
       "\t<li>'can'</li>\n",
       "</ol>\n"
      ],
      "text/latex": [
       "\\begin{enumerate*}\n",
       "\\item 'triggers'\n",
       "\\item 'key'\n",
       "\\item 'data'\n",
       "\\item 'object'\n",
       "\\item 'sql'\n",
       "\\item 'can'\n",
       "\\end{enumerate*}\n"
      ],
      "text/markdown": [
       "1. 'triggers'\n",
       "2. 'key'\n",
       "3. 'data'\n",
       "4. 'object'\n",
       "5. 'sql'\n",
       "6. 'can'\n",
       "\n",
       "\n"
      ],
      "text/plain": [
       "[1] \"triggers\" \"key\"      \"data\"     \"object\"   \"sql\"      \"can\"     "
      ]
     },
     "metadata": {},
     "output_type": "display_data"
    }
   ],
   "source": [
    "library(tm)\n",
    "#Loading MY STOPWORDS\n",
    "my_stopwords <- read.csv(\"D:\\\\R_pro_files\\\\coustom_words.csv\", header = FALSE)\n",
    "#PRINTING MY STOPWRODS\n",
    "head(custom_stopwords)\n",
    "my_stopwords <- as.character(my_stopwords$V1)\n",
    "# Adding MY STOPWORDS TO R INBILT STOPWORDS\n",
    "custom_stopwords <- c(my_stopwords, stopwords())\n"
   ]
  },
  {
   "cell_type": "code",
   "execution_count": 41,
   "metadata": {},
   "outputs": [
    {
     "data": {
      "text/plain": [
       "<<VCorpus>>\n",
       "Metadata:  corpus specific: 0, document level (indexed): 0\n",
       "Content:  documents: 2"
      ]
     },
     "metadata": {},
     "output_type": "display_data"
    },
    {
     "data": {
      "text/html": [
       "<table>\n",
       "<thead><tr><th></th><th scope=col>word</th><th scope=col>freq</th></tr></thead>\n",
       "<tbody>\n",
       "\t<tr><th scope=row>sql</th><td>sql      </td><td>128      </td></tr>\n",
       "\t<tr><th scope=row>key</th><td>key      </td><td>113      </td></tr>\n",
       "\t<tr><th scope=row>can</th><td>can      </td><td> 95      </td></tr>\n",
       "\t<tr><th scope=row>object</th><td>object   </td><td> 77      </td></tr>\n",
       "\t<tr><th scope=row>data</th><td>data     </td><td> 61      </td></tr>\n",
       "\t<tr><th scope=row>questions</th><td>questions</td><td> 61      </td></tr>\n",
       "\t<tr><th scope=row>will</th><td>will     </td><td> 61      </td></tr>\n",
       "\t<tr><th scope=row>one</th><td>one      </td><td> 60      </td></tr>\n",
       "\t<tr><th scope=row>asked</th><td>asked    </td><td> 56      </td></tr>\n",
       "\t<tr><th scope=row>server</th><td>server   </td><td> 49      </td></tr>\n",
       "</tbody>\n",
       "</table>\n"
      ],
      "text/latex": [
       "\\begin{tabular}{r|ll}\n",
       "  & word & freq\\\\\n",
       "\\hline\n",
       "\tsql & sql       & 128      \\\\\n",
       "\tkey & key       & 113      \\\\\n",
       "\tcan & can       &  95      \\\\\n",
       "\tobject & object    &  77      \\\\\n",
       "\tdata & data      &  61      \\\\\n",
       "\tquestions & questions &  61      \\\\\n",
       "\twill & will      &  61      \\\\\n",
       "\tone & one       &  60      \\\\\n",
       "\tasked & asked     &  56      \\\\\n",
       "\tserver & server    &  49      \\\\\n",
       "\\end{tabular}\n"
      ],
      "text/markdown": [
       "\n",
       "| <!--/--> | word | freq | \n",
       "|---|---|---|---|---|---|---|---|---|---|\n",
       "| sql | sql       | 128       | \n",
       "| key | key       | 113       | \n",
       "| can | can       |  95       | \n",
       "| object | object    |  77       | \n",
       "| data | data      |  61       | \n",
       "| questions | questions |  61       | \n",
       "| will | will      |  61       | \n",
       "| one | one       |  60       | \n",
       "| asked | asked     |  56       | \n",
       "| server | server    |  49       | \n",
       "\n",
       "\n"
      ],
      "text/plain": [
       "          word      freq\n",
       "sql       sql       128 \n",
       "key       key       113 \n",
       "can       can        95 \n",
       "object    object     77 \n",
       "data      data       61 \n",
       "questions questions  61 \n",
       "will      will       61 \n",
       "one       one        60 \n",
       "asked     asked      56 \n",
       "server    server     49 "
      ]
     },
     "metadata": {},
     "output_type": "display_data"
    }
   ],
   "source": [
    "#normal cleaning using R inbuilt STOPWORD\n",
    "#LOADING FILE FOR APPLYING MY STOPWORDS.\n",
    "text <- read.csv(\"D:\\\\R_pro_files\\\\500_questions.csv\", header = FALSE)\n",
    "#Making it in a corpus.\n",
    "text <- VectorSource(text)\n",
    "text <- VCorpus(text)\n",
    "\n",
    "#Normal standardization of text.\n",
    "text <- tm_map(text, content_transformer(tolower))\n",
    "#APPLYING MY STOPWORDS\n",
    "text <- tm_map(text, removeWords,stopwords(\"eng\"))\n",
    "\n",
    "text <- tm_map(text, stripWhitespace)\n",
    "head(text)\n",
    "dtm <- TermDocumentMatrix(text)\n",
    "m <- as.matrix(dtm)\n",
    "v <- sort(rowSums(m),decreasing=TRUE)\n",
    "d <- data.frame(word = names(v),freq=v)\n",
    "head(d, 10)"
   ]
  },
  {
   "cell_type": "code",
   "execution_count": 45,
   "metadata": {},
   "outputs": [],
   "source": [
    "\n",
    "#Cleaning using MY STOPWORD\n",
    "#LOADING FILE FOR APPLYING MY STOPWORDS.\n",
    "text <- read.csv(\"D:\\\\R_pro_files\\\\500_questions.csv\", header = FALSE)\n",
    "#Making it in a corpus.\n",
    "text <- VectorSource(text)\n",
    "text <- VCorpus(text)\n",
    "\n",
    "#Normal standardization of text.\n",
    "text <- tm_map(text, content_transformer(tolower))\n",
    "#APPLYING MY_STOPWORDS\n",
    "#Normal standardization of text.\n",
    "text <- tm_map(text, content_transformer(tolower))\n",
    "text <- tm_map(text, removeWords, my_stopwords)\n",
    "text <- tm_map(text, removeWords, stopwords(\"eng\"))\n",
    "text <- tm_map(text, stripWhitespace)"
   ]
  },
  {
   "cell_type": "code",
   "execution_count": 46,
   "metadata": {},
   "outputs": [
    {
     "data": {
      "text/plain": [
       "<<VCorpus>>\n",
       "Metadata:  corpus specific: 0, document level (indexed): 0\n",
       "Content:  documents: 2"
      ]
     },
     "metadata": {},
     "output_type": "display_data"
    },
    {
     "data": {
      "text/html": [
       "<table>\n",
       "<thead><tr><th></th><th scope=col>word</th><th scope=col>freq</th></tr></thead>\n",
       "<tbody>\n",
       "\t<tr><th scope=row>questions</th><td>questions</td><td>61       </td></tr>\n",
       "\t<tr><th scope=row>will</th><td>will     </td><td>61       </td></tr>\n",
       "\t<tr><th scope=row>one</th><td>one      </td><td>60       </td></tr>\n",
       "\t<tr><th scope=row>asked</th><td>asked    </td><td>56       </td></tr>\n",
       "\t<tr><th scope=row>server</th><td>server   </td><td>49       </td></tr>\n",
       "\t<tr><th scope=row>class</th><td>class    </td><td>42       </td></tr>\n",
       "\t<tr><th scope=row>time</th><td>time     </td><td>42       </td></tr>\n",
       "\t<tr><th scope=row>database</th><td>database </td><td>41       </td></tr>\n",
       "\t<tr><th scope=row>table</th><td>table    </td><td>37       </td></tr>\n",
       "\t<tr><th scope=row>like</th><td>like     </td><td>34       </td></tr>\n",
       "</tbody>\n",
       "</table>\n"
      ],
      "text/latex": [
       "\\begin{tabular}{r|ll}\n",
       "  & word & freq\\\\\n",
       "\\hline\n",
       "\tquestions & questions & 61       \\\\\n",
       "\twill & will      & 61       \\\\\n",
       "\tone & one       & 60       \\\\\n",
       "\tasked & asked     & 56       \\\\\n",
       "\tserver & server    & 49       \\\\\n",
       "\tclass & class     & 42       \\\\\n",
       "\ttime & time      & 42       \\\\\n",
       "\tdatabase & database  & 41       \\\\\n",
       "\ttable & table     & 37       \\\\\n",
       "\tlike & like      & 34       \\\\\n",
       "\\end{tabular}\n"
      ],
      "text/markdown": [
       "\n",
       "| <!--/--> | word | freq | \n",
       "|---|---|---|---|---|---|---|---|---|---|\n",
       "| questions | questions | 61        | \n",
       "| will | will      | 61        | \n",
       "| one | one       | 60        | \n",
       "| asked | asked     | 56        | \n",
       "| server | server    | 49        | \n",
       "| class | class     | 42        | \n",
       "| time | time      | 42        | \n",
       "| database | database  | 41        | \n",
       "| table | table     | 37        | \n",
       "| like | like      | 34        | \n",
       "\n",
       "\n"
      ],
      "text/plain": [
       "          word      freq\n",
       "questions questions 61  \n",
       "will      will      61  \n",
       "one       one       60  \n",
       "asked     asked     56  \n",
       "server    server    49  \n",
       "class     class     42  \n",
       "time      time      42  \n",
       "database  database  41  \n",
       "table     table     37  \n",
       "like      like      34  "
      ]
     },
     "metadata": {},
     "output_type": "display_data"
    }
   ],
   "source": [
    "#CONVERTING DATA IN READABLE FORM\n",
    "head(text)\n",
    "dtm <- TermDocumentMatrix(text)\n",
    "m <- as.matrix(dtm)\n",
    "v <- sort(rowSums(m),decreasing=TRUE)\n",
    "d <- data.frame(word = names(v),freq=v)\n",
    "head(d, 10)"
   ]
  },
  {
   "cell_type": "code",
   "execution_count": null,
   "metadata": {},
   "outputs": [],
   "source": []
  }
 ],
 "metadata": {
  "kernelspec": {
   "display_name": "R",
   "language": "R",
   "name": "ir"
  },
  "language_info": {
   "codemirror_mode": "r",
   "file_extension": ".r",
   "mimetype": "text/x-r-source",
   "name": "R",
   "pygments_lexer": "r",
   "version": "3.5.1"
  }
 },
 "nbformat": 4,
 "nbformat_minor": 2
}
