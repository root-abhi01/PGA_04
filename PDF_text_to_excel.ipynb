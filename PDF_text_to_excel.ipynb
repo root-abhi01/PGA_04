{
 "cells": [
  {
   "cell_type": "code",
   "execution_count": 56,
   "metadata": {},
   "outputs": [],
   "source": [
    "library(pdftools)\n",
    "library(stringr)\n",
    "library(xlsx)\n",
    "#PDF TO TEXT FORMAT USING PDFTOOLS\n",
    "\n",
    "pdf_text <- pdf_text(\"D:\\\\R_pro_files\\\\Chem.pdf\")\n",
    "#FILTERING WORD BY . AND NEW LIE /N\n",
    "filtr_pdf <- unlist(str_split(pdf_text, \"[\\\\.\\\\n]+\"))\n",
    "\n",
    "#REMOVING WHITE SPACES USING STR_TRIM\n",
    "Final_clean_txt <- str_split_fixed(str_trim(filtr_pdf), \"\\\\s{3,}\",1)\n",
    "\n",
    "#SAVING OUTPUT IN EXCEL\n",
    "write.xlsx(Final_clean_txt, file=\"D:\\\\R_pro_files\\\\Chem_output.xlsx\")\n"
   ]
  },
  {
   "cell_type": "code",
   "execution_count": 57,
   "metadata": {},
   "outputs": [
    {
     "data": {
      "text/html": [
       "<table>\n",
       "<thead><tr><th scope=col>CHEMICAL.SAFETY</th></tr></thead>\n",
       "<tbody>\n",
       "\t<tr><td>Introduction                                                 </td></tr>\n",
       "\t<tr><td>â€¢ Wide range of chemicals are used in research laboratories</td></tr>\n",
       "\t<tr><td>of the Institute, each with its own inherent hazards         </td></tr>\n",
       "\t<tr><td>                                                             </td></tr>\n",
       "\t<tr><td>â€¢ An understanding of the potential hazards and precautions</td></tr>\n",
       "\t<tr><td>required in handling of chemicals is of outmost importance   </td></tr>\n",
       "\t<tr><td>in preventing exposure to chemicals and mishaps              </td></tr>\n",
       "\t<tr><td>                                                             </td></tr>\n",
       "\t<tr><td>                                                             </td></tr>\n",
       "\t<tr><td>Routes of entry                                              </td></tr>\n",
       "\t<tr><td>The main routes of entry of the chemicals into the human     </td></tr>\n",
       "\t<tr><td>body are:                                                    </td></tr>\n",
       "\t<tr><td>â€¢ Inhalation into lungs                                    </td></tr>\n",
       "\t<tr><td>                                                             </td></tr>\n",
       "\t<tr><td>â€¢ Absorption through skin membrane/cuts in the skin        </td></tr>\n",
       "\t<tr><td>                                                             </td></tr>\n",
       "\t<tr><td>â€¢ Ingestion via mouth into the gastrointestinal system     </td></tr>\n",
       "\t<tr><td>                                                             </td></tr>\n",
       "\t<tr><td>                                                             </td></tr>\n",
       "\t<tr><td>Corrosives                                                   </td></tr>\n",
       "</tbody>\n",
       "</table>\n"
      ],
      "text/latex": [
       "\\begin{tabular}{r|l}\n",
       " CHEMICAL.SAFETY\\\\\n",
       "\\hline\n",
       "\t Introduction                                                 \\\\\n",
       "\t â€¢ Wide range of chemicals are used in research laboratories\\\\\n",
       "\t of the Institute, each with its own inherent hazards         \\\\\n",
       "\t                                                              \\\\\n",
       "\t â€¢ An understanding of the potential hazards and precautions\\\\\n",
       "\t required in handling of chemicals is of outmost importance   \\\\\n",
       "\t in preventing exposure to chemicals and mishaps              \\\\\n",
       "\t                                                              \\\\\n",
       "\t                                                              \\\\\n",
       "\t Routes of entry                                              \\\\\n",
       "\t The main routes of entry of the chemicals into the human     \\\\\n",
       "\t body are:                                                    \\\\\n",
       "\t â€¢ Inhalation into lungs                                    \\\\\n",
       "\t                                                              \\\\\n",
       "\t â€¢ Absorption through skin membrane/cuts in the skin        \\\\\n",
       "\t                                                              \\\\\n",
       "\t â€¢ Ingestion via mouth into the gastrointestinal system     \\\\\n",
       "\t                                                              \\\\\n",
       "\t                                                              \\\\\n",
       "\t Corrosives                                                   \\\\\n",
       "\\end{tabular}\n"
      ],
      "text/markdown": [
       "\n",
       "CHEMICAL.SAFETY | \n",
       "|---|---|---|---|---|---|---|---|---|---|---|---|---|---|---|---|---|---|---|---|\n",
       "| Introduction                                                  | \n",
       "| â€¢ Wide range of chemicals are used in research laboratories | \n",
       "| of the Institute, each with its own inherent hazards          | \n",
       "|                                                               | \n",
       "| â€¢ An understanding of the potential hazards and precautions | \n",
       "| required in handling of chemicals is of outmost importance    | \n",
       "| in preventing exposure to chemicals and mishaps               | \n",
       "|                                                               | \n",
       "|                                                               | \n",
       "| Routes of entry                                               | \n",
       "| The main routes of entry of the chemicals into the human      | \n",
       "| body are:                                                     | \n",
       "| â€¢ Inhalation into lungs                                     | \n",
       "|                                                               | \n",
       "| â€¢ Absorption through skin membrane/cuts in the skin         | \n",
       "|                                                               | \n",
       "| â€¢ Ingestion via mouth into the gastrointestinal system      | \n",
       "|                                                               | \n",
       "|                                                               | \n",
       "| Corrosives                                                    | \n",
       "\n",
       "\n"
      ],
      "text/plain": [
       "   CHEMICAL.SAFETY                                              \n",
       "1  Introduction                                                 \n",
       "2  â\\200¢ Wide range of chemicals are used in research laboratories\n",
       "3  of the Institute, each with its own inherent hazards         \n",
       "4                                                               \n",
       "5  â\\200¢ An understanding of the potential hazards and precautions\n",
       "6  required in handling of chemicals is of outmost importance   \n",
       "7  in preventing exposure to chemicals and mishaps              \n",
       "8                                                               \n",
       "9                                                               \n",
       "10 Routes of entry                                              \n",
       "11 The main routes of entry of the chemicals into the human     \n",
       "12 body are:                                                    \n",
       "13 â\\200¢ Inhalation into lungs                                    \n",
       "14                                                              \n",
       "15 â\\200¢ Absorption through skin membrane/cuts in the skin        \n",
       "16                                                              \n",
       "17 â\\200¢ Ingestion via mouth into the gastrointestinal system     \n",
       "18                                                              \n",
       "19                                                              \n",
       "20 Corrosives                                                   "
      ]
     },
     "metadata": {},
     "output_type": "display_data"
    }
   ],
   "source": [
    "library(xlsx)\n",
    "df <- read.xlsx(\"D:\\\\R_pro_files\\\\Chem_output.xlsx\", \n",
    "                 sheetIndex = 1, \n",
    "                 startRow=2, \n",
    "                 colIndex = 2)\n",
    "head(df,20)"
   ]
  },
  {
   "cell_type": "code",
   "execution_count": null,
   "metadata": {},
   "outputs": [],
   "source": []
  },
  {
   "cell_type": "code",
   "execution_count": null,
   "metadata": {},
   "outputs": [],
   "source": []
  }
 ],
 "metadata": {
  "kernelspec": {
   "display_name": "R",
   "language": "R",
   "name": "ir"
  },
  "language_info": {
   "codemirror_mode": "r",
   "file_extension": ".r",
   "mimetype": "text/x-r-source",
   "name": "R",
   "pygments_lexer": "r",
   "version": "3.5.1"
  }
 },
 "nbformat": 4,
 "nbformat_minor": 2
}
